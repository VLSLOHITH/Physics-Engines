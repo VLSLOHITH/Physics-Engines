{
 "cells": [
  {
   "cell_type": "code",
   "execution_count": 1,
   "metadata": {
    "colab": {
     "base_uri": "https://localhost:8080/"
    },
    "executionInfo": {
     "elapsed": 2388,
     "status": "ok",
     "timestamp": 1618428134857,
     "user": {
      "displayName": "Sai Lohith Reddy V L",
      "photoUrl": "https://lh3.googleusercontent.com/a-/AOh14GggjPc7ki9YAuYMoquQ3pEuYT36ZKkDTpqnglEMTg=s64",
      "userId": "08007472867318004629"
     },
     "user_tz": -330
    },
    "id": "dk3ixJgZ9jaB",
    "outputId": "0a1232b6-f68d-4a71-df46-20f55fce74e8"
   },
   "outputs": [
    {
     "name": "stdout",
     "output_type": "stream",
     "text": [
      "average: 58.440000000000005\n",
      "double integration: 2805.1200000000003\n",
      "actual avg: 58.666\n"
     ]
    }
   ],
   "source": [
    "                       # Trapezoidal method\n",
    "            # T(x,y)=2xy+2x−(x**2)-2(y**2)+72\n",
    "area=8*6    #area of plate\n",
    "db=0        #double integration of function\n",
    "n=11        #no of points along x axis or y axis\n",
    "ax=0;bx=8;ay=0;by=6   #boundary points of plate\n",
    "s=0                  #parameter\n",
    "avg=0               #avg of temp\n",
    "actual_avg=58.666   #actual avg\n",
    "hx=(bx-ax)/(n-1) #step size along x and (n-1)=no.of divisions\n",
    "hy=(by-ay)/(n-1) #step size along y\n",
    "x=[(ax+i*hx) for i in range(n)] #points along x cordinate\n",
    "y=[(ay+i*hy) for i in range(n)] #points along y cordinate\n",
    "def g(k):    #defining function in terms y which gives integration of function in x terms.\n",
    "  o=0\n",
    "  def T(m):  #defining function as they given function here T(x,y)\n",
    "    l=(2*m*k)+(2*m)-(m**2)-(2*(k**2))+72  #given function T(x,y)=2xy+2x−(x**2)-2(y**2)+72 and u can change here if u need to find for another function and x as m and y as k.\n",
    "    return(l)\n",
    "  for i in range(n):\n",
    "    if i!=0 and i!=n-1:\n",
    "      o+=2*T(x[i])\n",
    "  o=(hx/2)*(T(x[0])+T(x[n-1])+o)        #u can change here directly for simpsons method\n",
    "  return(o)\n",
    "for i in range(n):\n",
    "  if i!=0 and i!=n-1:\n",
    "    s+=2*g(y[i])\n",
    "db=(hy/2)*(g(y[0])+g(y[n-1])+s)\n",
    "avg=db/area    #avg of temparature\n",
    "print(\"average:\",avg)\n",
    "print(\"double integration:\",db)\n",
    "print(\"actual avg:\",actual_avg)\n",
    "\n",
    "\n",
    "\n",
    "\n",
    "\n",
    "\n",
    "\n",
    "\n"
   ]
  },
  {
   "cell_type": "code",
   "execution_count": 2,
   "metadata": {
    "colab": {
     "base_uri": "https://localhost:8080/"
    },
    "executionInfo": {
     "elapsed": 1026,
     "status": "ok",
     "timestamp": 1618047812412,
     "user": {
      "displayName": "Sai Lohith Reddy V L",
      "photoUrl": "https://lh3.googleusercontent.com/a-/AOh14GggjPc7ki9YAuYMoquQ3pEuYT36ZKkDTpqnglEMTg=s64",
      "userId": "08007472867318004629"
     },
     "user_tz": -330
    },
    "id": "JU_ibox0XUtt",
    "outputId": "0b00ce29-2dac-4af6-e5e3-377eff140cde"
   },
   "outputs": [
    {
     "name": "stdout",
     "output_type": "stream",
     "text": [
      "average: 58.66666666666666\n",
      "double integration: 2815.9999999999995\n",
      "actual avg: 58.666\n"
     ]
    }
   ],
   "source": [
    "              #simons method\n",
    "area=8*6    #area of plate\n",
    "db=0         #double integration of function\n",
    "n=11        #no of points along x axis or y axis\n",
    "ax=0;bx=8;ay=0;by=6   #boundary points of plate \n",
    "s=0                  #parameter\n",
    "avg=0               #avg of temp\n",
    "actual_avg=58.666   #actual avg\n",
    "hx=(bx-ax)/(n-1)    #step size along x and (n-1)=no.of divisions\n",
    "hy=(by-ay)/(n-1)    #step size along y\n",
    "x=[(ax+i*hx) for i in range(n)] #points along x cordinate\n",
    "y=[(ay+i*hy) for i in range(n)] #points along y cordinate\n",
    "def g(k):           #defining function in terms y which gives integration of function in x terms.\n",
    "  o=0\n",
    "  def T(m):          #defining function as they given function here T(x,y)\n",
    "    l=(2*m*k)+(2*m)-(m**2)-(2*(k**2))+72  #given function T(x,y)=2xy+2x−(x**2)-2(y**2)+72 and u can change here if u need to find for another function and x as m and y as k.\n",
    "    return(l)\n",
    "  for i in range(n):\n",
    "    if i!=0 and i!=n-1:\n",
    "      if i%2==0:\n",
    "        o+=2*T(x[i])\n",
    "      else:o+=4*T(x[i])\n",
    "  o=(hx/3)*(T(x[0])+T(x[n-1])+o)        #u can change here directly for trepizoidal method\n",
    "  return(o)\n",
    "for i in range(n):\n",
    "  if i!=0 and i!=n-1:\n",
    "    if i%2==0:\n",
    "        s+=2*g(y[i])\n",
    "    else:s+=4*g(y[i])\n",
    "db=(hy/3)*(g(y[0])+g(y[n-1])+s)\n",
    "avg=db/area    #avg of temparature\n",
    "print(\"average:\",avg)\n",
    "print(\"double integration:\",db)\n",
    "print(\"actual avg:\",actual_avg)\n",
    "\n",
    "\n",
    "\n",
    "\n",
    "\n",
    "\n",
    "\n"
   ]
  },
  {
   "cell_type": "code",
   "execution_count": 3,
   "metadata": {
    "id": "jx_5TBh8yTve"
   },
   "outputs": [
    {
     "name": "stdout",
     "output_type": "stream",
     "text": [
      "[1.463411486887383, 1.4625351661960997, 1.4629473028487727, 1.462840255005012, 1.464149377488022, 1.4601771162650719, 1.4623315741255478, 1.4626648675533096, 1.4632454981746168, 1.461148850537323]\n",
      "[1000000, 1000010, 1000020, 1000030, 1000040, 1000050, 1000060, 1000070, 1000080, 1000090]\n"
     ]
    },
    {
     "data": {
      "text/plain": [
       "[<matplotlib.lines.Line2D at 0x16cb7fb85e0>]"
      ]
     },
     "execution_count": 3,
     "metadata": {},
     "output_type": "execute_result"
    },
    {
     "data": {
      "image/png": "[encoded data removed]",
      "text/plain": [
       "<Figure size 432x288 with 1 Axes>"
      ]
     },
     "metadata": {
      "needs_background": "light"
     },
     "output_type": "display_data"
    }
   ],
   "source": [
    "                                  #monti carlo integration for different number of random points taken\n",
    "from random import uniform\n",
    "from pylab import scatter,plot,grid,xlim\n",
    "import math\n",
    "N=[] #total no of points taken\n",
    "o=[]\n",
    "for j in range(10):\n",
    "  N.append(1000000+10*j) #total no of points taken\n",
    "  A=math.exp(1) #area of boundary(square)\n",
    "  x=[uniform(0,1) for i in range(N[j])] #taking random points along x from (-1,1)\n",
    "  y=[uniform(0,math.exp(1)) for i in range(N[j])] #taking random pointsalong y from(1,e)\n",
    "  k1=[];l1=[];m1=[];n1=[] #intialising the list which fo\n",
    "  for i in range(N[j]):\n",
    "    if (math.exp(x[i]**2)>=y[i]): #condition foroutside the circle\n",
    "      k1.append(y[i])\n",
    "      l1.append(x[i])\n",
    "    else:\n",
    "      m1.append(y[i])\n",
    "      n1.append(x[i])\n",
    "  o.append((A)*(len(l1)/N[j])) #integration value\n",
    "print(o)\n",
    "print(N)\n",
    "plot(N,o)"
   ]
  },
  {
   "cell_type": "code",
   "execution_count": null,
   "metadata": {
    "id": "5WxuAURByUgo"
   },
   "outputs": [],
   "source": []
  }
 ],
 "metadata": {
  "colab": {
   "authorship_tag": "ABX9TyN1ivrtp6tpSusEyDi2CWr1",
   "collapsed_sections": [],
   "name": "Definite Integration Solvers",
   "provenance": []
  },
  "kernelspec": {
   "display_name": "Python 3",
   "language": "python",
   "name": "python3"
  },
  "language_info": {
   "codemirror_mode": {
    "name": "ipython",
    "version": 3
   },
   "file_extension": ".py",
   "mimetype": "text/x-python",
   "name": "python",
   "nbconvert_exporter": "python",
   "pygments_lexer": "ipython3",
   "version": "3.8.8"
  }
 },
 "nbformat": 4,
 "nbformat_minor": 4
}
