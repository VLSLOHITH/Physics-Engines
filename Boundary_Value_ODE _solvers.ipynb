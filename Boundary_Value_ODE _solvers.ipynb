{
 "cells": [
  {
   "cell_type": "code",
   "execution_count": 1,
   "metadata": {
    "colab": {
     "base_uri": "https://localhost:8080/",
     "height": 282
    },
    "executionInfo": {
     "elapsed": 628,
     "status": "ok",
     "timestamp": 1626780076985,
     "user": {
      "displayName": "Sai Lohith Reddy V L",
      "photoUrl": "https://lh3.googleusercontent.com/a-/AOh14GggjPc7ki9YAuYMoquQ3pEuYT36ZKkDTpqnglEMTg=s64",
      "userId": "08007472867318004629"
     },
     "user_tz": -330
    },
    "id": "Nz9MHSD6gwk4",
    "outputId": "e0c8532e-cd33-4e69-e10c-cfdba64c9c5c"
   },
   "outputs": [
    {
     "name": "stdout",
     "output_type": "stream",
     "text": [
      "200.0\n"
     ]
    },
    {
     "data": {
      "image/png": "[encoded data removed]",
      "text/plain": [
       "<Figure size 432x288 with 1 Axes>"
      ]
     },
     "metadata": {
      "needs_background": "light"
     },
     "output_type": "display_data"
    }
   ],
   "source": [
    "#shooting method\n",
    "from pylab import plot,show,grid,scatter\n",
    "from copy import deepcopy\n",
    "n=11 #no of steps we are taking+1 or range of no.of points in thearrey we are taking as (x,y)coordinates.\n",
    "h=10/(n-1) #step of the graph or least count of the graph\n",
    "x=[h*i for i in range(n)] # coordinate along length of the rod\n",
    "t=[0.0 for i in range(n)] #temparature coordinate of the rod along the length\n",
    "ta=20 #temparature of surrounding in degrees celcius\n",
    "z=deepcopy(t) #slope of the temparature and length\n",
    "t[n-1]=200; t[0]=40 #boundary values of the temperature of the rod\n",
    "h1=0.01 #the heat transfer coeffeciant\n",
    "def f(k):\n",
    "  from copy import deepcopy\n",
    "  v=4 #order of ranga kutta method\n",
    "  g=deepcopy(t)\n",
    "  # print(g)\n",
    "  vx=deepcopy(z)\n",
    "  k=vx[0]\n",
    "  r=[0.0 for i in range(2*v)] #slopes involved in rangakuttamethodand 4 multiplied due to we are finding for vx,vy,x,y\n",
    "  def a(p):\n",
    "    o=h1*(p-ta)\n",
    "    return(o)\n",
    "#r[0],r[2],r[4],r[6] are for calculating vx\n",
    "#r[1],r[3],r[5],r[7] are for calculating g\n",
    "  for i in range(n-1):\n",
    "    r[0]=h*a(g[i])\n",
    "    r[1]=h*vx[i]\n",
    "    r[2]=h*a(g[i]+(r[1]/2))\n",
    "    r[3]=h*(vx[i]+(r[0]/2))\n",
    "    r[4]=h*a(g[i]+(r[3]/2))\n",
    "    r[5]=h*(vx[i]+(r[2]/2))\n",
    "    r[6]=h*a(g[i]+(r[5]))\n",
    "    r[7]=h*(vx[i]+r[4])\n",
    "    vx[i+1]=vx[i]+(1/6)*(r[0]+2*r[2]+2*r[4]+r[6])\n",
    "    g[i+1]=g[i]+(1/6)*(r[1]+2*r[3]+2*r[5]+r[7])\n",
    "  return(g)\n",
    "z[0]=20 #guess point 1\n",
    "p1=z[0]\n",
    "l=f(z[0])\n",
    "# print(l)\n",
    "z[0]=10 #guess point 2\n",
    "p2=z[0]\n",
    "m=f(z[0])\n",
    "# print(m)\n",
    "z[0]=p2+((p1-p2)/(l[n-1]-m[n-1]))*(t[n-1]-m[n-1]) #linear interpolation\n",
    "u=f(z[0])\n",
    "print(u[n-1]) #final point got by numerical method\n",
    "plot(x,u)\n",
    "plot(x,l,color=\"red\")\n",
    "plot(x,m,color=\"green\")\n",
    "grid()"
   ]
  },
  {
   "cell_type": "code",
   "execution_count": 2,
   "metadata": {
    "colab": {
     "base_uri": "https://localhost:8080/",
     "height": 453
    },
    "executionInfo": {
     "elapsed": 523,
     "status": "ok",
     "timestamp": 1626780092011,
     "user": {
      "displayName": "Sai Lohith Reddy V L",
      "photoUrl": "https://lh3.googleusercontent.com/a-/AOh14GggjPc7ki9YAuYMoquQ3pEuYT36ZKkDTpqnglEMTg=s64",
      "userId": "08007472867318004629"
     },
     "user_tz": -330
    },
    "id": "oTSyi_Fc6ZgL",
    "outputId": "b0de826a-9881-43ab-94c8-33c78f626179"
   },
   "outputs": [
    {
     "name": "stdout",
     "output_type": "stream",
     "text": [
      "[2.01, -1, 0, 0, 0, 0, 0, 0, 0]\n",
      "[-1, 2.01, -1, 0, 0, 0, 0, 0, 0]\n",
      "[0, -1, 2.01, -1, 0, 0, 0, 0, 0]\n",
      "[0, 0, -1, 2.01, -1, 0, 0, 0, 0]\n",
      "[0, 0, 0, -1, 2.01, -1, 0, 0, 0]\n",
      "[0, 0, 0, 0, -1, 2.01, -1, 0, 0]\n",
      "[0, 0, 0, 0, 0, -1, 2.01, -1, 0]\n",
      "[0, 0, 0, 0, 0, 0, -1, 2.01, -1]\n",
      "[0, 0, 0, 0, 0, 0, 0, -1, 2.01]\n",
      "[40, 52.744842706261196, 65.83167440118517, 79.39576198678775, 93.57487645578884, 108.51070413079752, 124.35050702175333, 141.24900371325182, 159.37043338172796, 178.8907628764816, 200]\n"
     ]
    },
    {
     "data": {
      "image/png": "[encoded data removed]",
      "text/plain": [
       "<Figure size 432x288 with 1 Axes>"
      ]
     },
     "metadata": {
      "needs_background": "light"
     },
     "output_type": "display_data"
    }
   ],
   "source": [
    "                        #finite differene method\n",
    "from pylab import plot,show,grid,scatter\n",
    "from copy import deepcopy\n",
    "import random\n",
    "n=11     #no of steps we are taking+1 or range of no.of points in the arrey we are taking as (x,y)coordinates.\n",
    "h=10/(n-1) #step of the graph or least count of the graph\n",
    "x1=[h*i for i in range(n)] # coordinate along length of the rod\n",
    "t=[0.0 for i in range(n)] #temparature coordinate of the rod along the length\n",
    "ta=20  #temparature of surrounding in degrees celcius\n",
    "z=deepcopy(t) #slope of the temparature and length\n",
    "t[n-1]=200; t[0]=40 #boundary values of the temperature of the rod\n",
    "h1=0.01 #the heat transfer coeffeciant\n",
    "# for i in range(n-2):\n",
    "#   if i=1:\n",
    "#     t[i+2]=(2+h1*h**2)*t[i+1]-(h1*h**2*ta)-t[i]\n",
    "# print(2+h1*h**2,h1*h**2*ta)\n",
    "b1=[0.0 for i in range(n-2)]\n",
    "for i in range(n-2):\n",
    "  if i==0:\n",
    "    b1[i]=(h1*(h**2)*ta)+t[0]\n",
    "  elif i==n-3:\n",
    "    b1[i]=(h1*(h**2)*ta)+t[n-1]\n",
    "  else:\n",
    "    b1[i]=(h1*(h**2)*ta)\n",
    "A=[[0.0 for i in range(n-2)] for j in range(n-2)]\n",
    "for i in range(n-2):\n",
    "  for j in range(n-2):\n",
    "    if i==j:\n",
    "      A[i][j]=2+(h1*(h**2))\n",
    "    elif i==j+1 or i==j-1:\n",
    "      A[i][j]=-1\n",
    "    else:\n",
    "      A[i][j]=0\n",
    "O=deepcopy(A)\n",
    "for i in range(n-2):\n",
    "  O[i].append(b1[i])\n",
    "  print(A[i])\n",
    "augumentend_matrix=O\n",
    "# print(O);print(A);print(b1)\n",
    "# implimenting elimination method\n",
    "def f2(k):\n",
    "    #   Q1) CODE FOR GAUESS SEIDEL METHOD                    \n",
    "  l1=len(b1);f=0;m=1\n",
    "  a1=k # augumented matrix\n",
    "  \n",
    "  x=[[0.0 for i in range(m)]for i in range(n)]\n",
    "  c=deepcopy(x)\n",
    "  a=[00 for _ in range(l1)]\n",
    "  b=deepcopy(x)\n",
    "  l2=0.003;l3=1;count=0;s=0;p=l1\n",
    "  while p>0:\n",
    "      for i in range(l1):\n",
    "          for k in range(l1):\n",
    "              if k!=i:\n",
    "                s+=a1[i][k]\n",
    "          if(a1[i][i]<abs(s)):\n",
    "              # print(a1)\n",
    "              a1=random.sample(a1,l1)\n",
    "              # print(a1,i,end=\"\\n\\n\")\n",
    "          else:\n",
    "              if(a[i]==0):\n",
    "                  a[i]=a1[i].copy();p=p-1\n",
    "          s=0\n",
    "  for i in range(l1):b[i][0]=a[i].pop(l1)\n",
    "  # print(\"a:\",a)\n",
    "  # print(\"b:\",b)\n",
    "  while l3:\n",
    "      count+=1\n",
    "      for i in range(l1):\n",
    "          if a[i][i]==0: sys.quit()\n",
    "          for j in range(m):\n",
    "              x[i][j]=b[i][j]\n",
    "              for k in range(l1):\n",
    "                  if k!=i:\n",
    "                      x[i][j]-=a[i][k]*x[k][j]\n",
    "              x[i][j]/=a[i][i]\n",
    "              # print(c,x,abs((c[i][j]-x[i][j])/x[i][j]),sep=\"\\n\",end=\"\\n\\n\")\n",
    "              if(abs((c[i][j]-x[i][j])/x[i][j])*100<l2):l3=0;break\n",
    "              else:c[i][j]=x[i][j]\n",
    "  return(x)\n",
    "y=f2(O)\n",
    "for i in range(n-2):\n",
    "  t[i+1]=y[i][0]\n",
    "print(t)\n",
    "plot(x1,t)\n",
    "grid()\n",
    "\n",
    "\n",
    "\n",
    "\n",
    "\n",
    "\n",
    "\n",
    "\n",
    "\n",
    "\n",
    "\n",
    "\n",
    "\n",
    "\n",
    "\n",
    "\n",
    "\n",
    "\n",
    "\n",
    "     \n",
    "\n",
    "\n",
    "\n"
   ]
  },
  {
   "cell_type": "code",
   "execution_count": null,
   "metadata": {},
   "outputs": [],
   "source": []
  }
 ],
 "metadata": {
  "colab": {
   "authorship_tag": "ABX9TyODqbNm5lncPbuJglmGfkbw",
   "collapsed_sections": [],
   "name": "Boundary_Value_ODE _solvers.ipynb",
   "provenance": []
  },
  "kernelspec": {
   "display_name": "Python 3",
   "language": "python",
   "name": "python3"
  },
  "language_info": {
   "codemirror_mode": {
    "name": "ipython",
    "version": 3
   },
   "file_extension": ".py",
   "mimetype": "text/x-python",
   "name": "python",
   "nbconvert_exporter": "python",
   "pygments_lexer": "ipython3",
   "version": "3.8.8"
  }
 },
 "nbformat": 4,
 "nbformat_minor": 4
}
